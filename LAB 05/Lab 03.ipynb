{
 "cells": [
  {
   "cell_type": "code",
   "execution_count": 5,
   "metadata": {},
   "outputs": [
    {
     "name": "stdout",
     "output_type": "stream",
     "text": [
      "Agra is not the capital of Uttar Pradesh\n",
      "The vowel count in the above word/statement is 13\n"
     ]
    }
   ],
   "source": [
    "n=input(\"enter a string\")\n",
    "def count_vowels(n):\n",
    "    vowels=\"aeiou\"\n",
    "    count=0\n",
    "    v=n.lower()\n",
    "    print(n)\n",
    "    for i in v:\n",
    "        if i in vowels:\n",
    "            count+=1\n",
    "    print(\"The vowel count in the above word/statement is\",count)\n",
    "count_vowels(n)"
   ]
  }
 ],
 "metadata": {
  "kernelspec": {
   "display_name": "Python 3",
   "language": "python",
   "name": "python3"
  },
  "language_info": {
   "codemirror_mode": {
    "name": "ipython",
    "version": 3
   },
   "file_extension": ".py",
   "mimetype": "text/x-python",
   "name": "python",
   "nbconvert_exporter": "python",
   "pygments_lexer": "ipython3",
   "version": "3.11.4"
  }
 },
 "nbformat": 4,
 "nbformat_minor": 2
}
