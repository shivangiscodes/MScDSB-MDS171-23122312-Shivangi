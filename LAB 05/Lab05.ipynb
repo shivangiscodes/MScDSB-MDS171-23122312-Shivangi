{
 "cells": [
  {
   "cell_type": "code",
   "execution_count": 8,
   "metadata": {},
   "outputs": [
    {
     "name": "stdout",
     "output_type": "stream",
     "text": [
      "Shivangi SharmA\n",
      "\n",
      "Total number of vowels: 5\n",
      "\n",
      "Vowels and their counts:\n",
      "i: 2\n",
      "a: 2\n",
      "A: 1\n",
      "\n",
      "Percentage of vowels in the string: 33.33%\n"
     ]
    }
   ],
   "source": [
    "def count_vowels(input_string):\n",
    "    vowels = \"AEIOUaeiou\"\n",
    "    vowel_count = {}\n",
    "    total_count = 0\n",
    "\n",
    "    for i in input_string:\n",
    "        if i in vowels:\n",
    "            vowel_count[i] = vowel_count.get(i, 0) + 1\n",
    "            total_count += 1\n",
    "\n",
    "    return vowel_count, total_count\n",
    "\n",
    "def main():\n",
    "    a = input(\"Enter a string: \") #user_input\n",
    "    print(a)\n",
    "    \n",
    "    vowel_count_dict, total_count = count_vowels(a)\n",
    "\n",
    "    print(\"\\nTotal number of vowels:\", total_count)\n",
    "\n",
    "    print(\"\\nVowels and their counts:\")\n",
    "    for vowel, count in vowel_count_dict.items():\n",
    "        print(f\"{vowel}: {count}\")\n",
    "\n",
    "    percentage = (total_count / len(a)) * 100\n",
    "    print(f\"\\nPercentage of vowels in the string: {percentage:.2f}%\")\n",
    "\n",
    "main()"
   ]
  },
  {
   "cell_type": "markdown",
   "metadata": {},
   "source": []
  }
 ],
 "metadata": {
  "kernelspec": {
   "display_name": "Python 3",
   "language": "python",
   "name": "python3"
  },
  "language_info": {
   "name": "python",
   "version": "3.11.4"
  },
  "orig_nbformat": 4
 },
 "nbformat": 4,
 "nbformat_minor": 2
}
