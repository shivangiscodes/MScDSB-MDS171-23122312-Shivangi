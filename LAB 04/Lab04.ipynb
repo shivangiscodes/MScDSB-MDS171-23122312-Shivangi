{
 "cells": [
  {
   "cell_type": "code",
   "execution_count": 8,
   "metadata": {},
   "outputs": [],
   "source": [
    "with open(\"orders.txt\",\"a+\") as file:\n",
    "    itemname=input(\"item name: \")\n",
    "    qty=input(\"Quantity: \")\n",
    "    price=input(\"Price: \")\n",
    "    str_to_save=itemname+\"\\n\"+qty+\"\\n\"+price+\"\\n\"\n",
    "    file.write(str_to_save)\n",
    " "
   ]
  },
  {
   "cell_type": "code",
   "execution_count": 5,
   "metadata": {},
   "outputs": [
    {
     "name": "stdout",
     "output_type": "stream",
     "text": [
      "['', '', '']\n",
      "['apples', '4', '342']\n",
      "['apples']\n",
      "['3']\n",
      "['300']\n",
      "['banana']\n",
      "['3']\n",
      "['4']\n"
     ]
    }
   ],
   "source": [
    "for file in open(\"orders.txt\").readlines():\n",
    "    orderDetails=file.strip().split(',')\n",
    "    print(orderDetails)"
   ]
  },
  {
   "cell_type": "code",
   "execution_count": 10,
   "metadata": {},
   "outputs": [
    {
     "ename": "ValueError",
     "evalue": "I/O operation on closed file.",
     "output_type": "error",
     "traceback": [
      "\u001b[1;31m---------------------------------------------------------------------------\u001b[0m",
      "\u001b[1;31mValueError\u001b[0m                                Traceback (most recent call last)",
      "\u001b[1;32mc:\\Users\\Shivam\\Desktop\\MScDSB-MDS171-23122312-Shivangi\\Lab04.ipynb Cell 3\u001b[0m line \u001b[0;36m6\n\u001b[0;32m      <a href='vscode-notebook-cell:/c%3A/Users/Shivam/Desktop/MScDSB-MDS171-23122312-Shivangi/Lab04.ipynb#W2sZmlsZQ%3D%3D?line=3'>4</a>\u001b[0m     str_for_data\u001b[39m=\u001b[39muser_name\u001b[39m+\u001b[39m\u001b[39m'\u001b[39m\u001b[39m\\n\u001b[39;00m\u001b[39m'\u001b[39m\u001b[39m+\u001b[39muser_age\u001b[39m+\u001b[39m\u001b[39m'\u001b[39m\u001b[39m\\n\u001b[39;00m\u001b[39m'\u001b[39m\n\u001b[0;32m      <a href='vscode-notebook-cell:/c%3A/Users/Shivam/Desktop/MScDSB-MDS171-23122312-Shivangi/Lab04.ipynb#W2sZmlsZQ%3D%3D?line=4'>5</a>\u001b[0m     file\u001b[39m.\u001b[39mwrite(str_for_data)\n\u001b[1;32m----> <a href='vscode-notebook-cell:/c%3A/Users/Shivam/Desktop/MScDSB-MDS171-23122312-Shivangi/Lab04.ipynb#W2sZmlsZQ%3D%3D?line=5'>6</a>\u001b[0m \u001b[39mprint\u001b[39m(file\u001b[39m.\u001b[39;49mreadlines())\n\u001b[0;32m      <a href='vscode-notebook-cell:/c%3A/Users/Shivam/Desktop/MScDSB-MDS171-23122312-Shivangi/Lab04.ipynb#W2sZmlsZQ%3D%3D?line=6'>7</a>\u001b[0m \u001b[39m#for file in open(\"aboutme.txt\").readlines():\u001b[39;00m\n\u001b[0;32m      <a href='vscode-notebook-cell:/c%3A/Users/Shivam/Desktop/MScDSB-MDS171-23122312-Shivangi/Lab04.ipynb#W2sZmlsZQ%3D%3D?line=7'>8</a>\u001b[0m     \u001b[39m#orderDeets=file.strip().split(',')\u001b[39;00m\n\u001b[0;32m      <a href='vscode-notebook-cell:/c%3A/Users/Shivam/Desktop/MScDSB-MDS171-23122312-Shivangi/Lab04.ipynb#W2sZmlsZQ%3D%3D?line=8'>9</a>\u001b[0m     \u001b[39m#file.readlines()#orderDeets)\u001b[39;00m\n",
      "\u001b[1;31mValueError\u001b[0m: I/O operation on closed file."
     ]
    }
   ],
   "source": [
    "with open(\"aboutme.txt\",\"a+\") as file:\n",
    "    user_name=input(\"what is your name?\")\n",
    "    user_age=input(\"what is your age?\")\n",
    "    str_for_data=user_name+'\\n'+user_age+'\\n'\n",
    "    file.write(str_for_data)\n",
    "print(file.readlines())\n",
    "#for file in open(\"aboutme.txt\").readlines():\n",
    "    #orderDeets=file.strip().split(',')\n",
    "    #file.readlines()#orderDeets)"
   ]
  }
 ],
 "metadata": {
  "kernelspec": {
   "display_name": "Python 3",
   "language": "python",
   "name": "python3"
  },
  "language_info": {
   "codemirror_mode": {
    "name": "ipython",
    "version": 3
   },
   "file_extension": ".py",
   "mimetype": "text/x-python",
   "name": "python",
   "nbconvert_exporter": "python",
   "pygments_lexer": "ipython3",
   "version": "3.11.4"
  },
  "orig_nbformat": 4
 },
 "nbformat": 4,
 "nbformat_minor": 2
}
