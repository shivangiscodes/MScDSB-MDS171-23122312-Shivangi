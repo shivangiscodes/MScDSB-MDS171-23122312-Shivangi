{
 "cells": [
  {
   "cell_type": "code",
   "execution_count": 10,
   "metadata": {},
   "outputs": [
    {
     "name": "stdout",
     "output_type": "stream",
     "text": [
      "User-defined Functions\n",
      "\n",
      "mean:  542.94\n",
      "minimum value:  17\n",
      "maximum value:  999\n",
      "range:  982\n",
      "\n",
      "\n",
      "The values matches with the predefined functions which is: mean\n",
      "mean:  542.94\n",
      "\n",
      "mean:  None \n",
      "minimum value: 17 \n",
      "maximum value: 999 \n",
      "and the range is  982\n"
     ]
    }
   ],
   "source": [
    "def mean(lis):\n",
    "    sum=0\n",
    "    count=0\n",
    "    mean=0\n",
    "    for i in lis:\n",
    "        sum+=i\n",
    "        count=count+1\n",
    "        mean=sum/count\n",
    "    print(\"mean: \",mean)\n",
    "\n",
    "def sorting(sort):\n",
    "    for i in range(0,len(sort)):\n",
    "        for j in range(i+1,len(sort)):\n",
    "            if sort[i]>sort[j]:\n",
    "                temp=sort[i]\n",
    "                sort[i]=sort[j]\n",
    "                sort[j]=temp\n",
    "    print(\"minimum value: \",sort[0])\n",
    "    print(\"maximum value: \",sort[99])\n",
    "    print(\"range: \", sort[99]-sort[0])\n",
    "List=[761, 123, 585, 275, 194, 840, 999, 622, 763, 40, 825, 687, 402, 338, 611, 987, 739, 95, 819, 568, 320, 126, 688, 948, 514, 223, 751, 379, 857, 767, 492, 162, 437, 934, 430, 343, 725, 511, 580, 678, 708, 823, 346, 179, 786, 663, 195, 890, 267, 502, 214, 300, 786, 961, 235, 559, 992, 919, 948, 318, 57, 787, 653, 317, 305, 172, 966, 182, 970, 17, 89, 624, 629, 595, 485, 752, 984, 978, 460, 124, 321, 256, 614, 852, 811, 561, 127, 207, 406, 615, 888, 391, 691, 470, 911, 401, 137, 600, 478, 682]\n",
    "print(\"User-defined Functions\\n\")\n",
    "mean(List)\n",
    "sorting(List)\n",
    "print(\"\\n\")\n",
    "print(\"The values matches with the predefined functions which is: mean\") \n",
    "print(\"\\nmean: \", mean(List), \"\\nminimum value:\",  min(List) , \"\\nmaximum value:\" , max(List) , \"\\nand the range is \" , max(List)-min(List))\n",
    "\n",
    "\n",
    "\n"
   ]
  },
  {
   "cell_type": "code",
   "execution_count": 11,
   "metadata": {},
   "outputs": [
    {
     "ename": "AttributeError",
     "evalue": "'list' object has no attribute 'value'",
     "output_type": "error",
     "traceback": [
      "\u001b[1;31m---------------------------------------------------------------------------\u001b[0m",
      "\u001b[1;31mAttributeError\u001b[0m                            Traceback (most recent call last)",
      "\u001b[1;32mc:\\Users\\Shivam\\Desktop\\MScDSB-MDS171-23122312-Shivangi\\lab03.ipynb Cell 2\u001b[0m line \u001b[0;36m1\n\u001b[0;32m      <a href='vscode-notebook-cell:/c%3A/Users/Shivam/Desktop/MScDSB-MDS171-23122312-Shivangi/lab03.ipynb#W1sZmlsZQ%3D%3D?line=0'>1</a>\u001b[0m mscdsb\u001b[39m=\u001b[39m[\n\u001b[0;32m      <a href='vscode-notebook-cell:/c%3A/Users/Shivam/Desktop/MScDSB-MDS171-23122312-Shivangi/lab03.ipynb#W1sZmlsZQ%3D%3D?line=1'>2</a>\u001b[0m     {\n\u001b[0;32m      <a href='vscode-notebook-cell:/c%3A/Users/Shivam/Desktop/MScDSB-MDS171-23122312-Shivangi/lab03.ipynb#W1sZmlsZQ%3D%3D?line=2'>3</a>\u001b[0m         \u001b[39m\"\u001b[39m\u001b[39mName\u001b[39m\u001b[39m\"\u001b[39m:\u001b[39m\"\u001b[39m\u001b[39mShivangi\u001b[39m\u001b[39m\"\u001b[39m,\n\u001b[1;32m   (...)\u001b[0m\n\u001b[0;32m     <a href='vscode-notebook-cell:/c%3A/Users/Shivam/Desktop/MScDSB-MDS171-23122312-Shivangi/lab03.ipynb#W1sZmlsZQ%3D%3D?line=10'>11</a>\u001b[0m     }\n\u001b[0;32m     <a href='vscode-notebook-cell:/c%3A/Users/Shivam/Desktop/MScDSB-MDS171-23122312-Shivangi/lab03.ipynb#W1sZmlsZQ%3D%3D?line=11'>12</a>\u001b[0m ]\n\u001b[1;32m---> <a href='vscode-notebook-cell:/c%3A/Users/Shivam/Desktop/MScDSB-MDS171-23122312-Shivangi/lab03.ipynb#W1sZmlsZQ%3D%3D?line=12'>13</a>\u001b[0m \u001b[39mprint\u001b[39m(mscdsb\u001b[39m.\u001b[39;49mvalue)\n",
      "\u001b[1;31mAttributeError\u001b[0m: 'list' object has no attribute 'value'"
     ]
    }
   ],
   "source": [
    "mscdsb=[\n",
    "    {\n",
    "        \"Name\":\"Shivangi\",\n",
    "        \"Email\":\"ss.in\",\n",
    "        \"Phone\": 459798376\n",
    "    },\n",
    "    {\n",
    "        \"Name\":\"Gungun\",\n",
    "        \"Email\":\"gg.in\",\n",
    "        \"Phone\": 57497459\n",
    "    }\n",
    "]\n",
    "print(mscdsb.value)"
   ]
  },
  {
   "cell_type": "code",
   "execution_count": 27,
   "metadata": {},
   "outputs": [
    {
     "name": "stdout",
     "output_type": "stream",
     "text": [
      "Hey! howre you?\n",
      "\n",
      "Total number of vowels: 5\n",
      "\n",
      "Vowels and their counts:\n",
      "E: 2\n",
      "O: 2\n",
      "U: 1\n",
      "\n",
      "Percentage of vowels in the string: 33.33%\n"
     ]
    }
   ],
   "source": [
    "def count_vowels(input_string):\n",
    "    vowels = \"AEIOUaeiou\"\n",
    "    vowel_count = {}\n",
    "    total_count = 0\n",
    "\n",
    "    for i in input_string:\n",
    "        if i in vowels:\n",
    "            i = i.upper()  # Convert to uppercase for consistent counting\n",
    "            vowel_count[i] = vowel_count.get(i, 0) + 1\n",
    "            total_count += 1\n",
    "\n",
    "    return vowel_count, total_count\n",
    "\n",
    "def main():\n",
    "    user_input = input(\"Enter a string: \")\n",
    "    print(user_input)\n",
    "    \n",
    "    vowel_count_dict, total_count = count_vowels(user_input)\n",
    "\n",
    "    print(\"\\nTotal number of vowels:\", total_count)\n",
    "\n",
    "    print(\"\\nVowels and their counts:\")\n",
    "    for vowel, count in vowel_count_dict.items():\n",
    "        \n",
    "        print(f\"{vowel}: {count}\")\n",
    "\n",
    "    percentage = (total_count / len(user_input)) * 100\n",
    "    print(f\"\\nPercentage of vowels in the string: {percentage:.2f}%\")\n",
    "\n",
    "main()"
   ]
  },
  {
   "cell_type": "code",
   "execution_count": 4,
   "metadata": {},
   "outputs": [
    {
     "name": "stdout",
     "output_type": "stream",
     "text": [
      "HEY\n",
      "hey\n"
     ]
    }
   ],
   "source": [
    "n=\"hEy\"\n",
    "print(n.upper())\n",
    "print(n.lower())"
   ]
  },
  {
   "cell_type": "code",
   "execution_count": null,
   "metadata": {},
   "outputs": [],
   "source": [
    "#self-made\n",
    "n=input(\"enter a string\")\n",
    "def count_vowels(n):\n",
    "    vowels=\"aeiou\"\n",
    "    count=0\n",
    "    v=n.lower()\n",
    "    print(n)\n",
    "    print(v)\n",
    "    for i in v:\n",
    "        if i in vowels:\n",
    "            print(i)\n",
    "            count+=1\n",
    "    return count\n",
    "count_vowels(n)\n"
   ]
  }
 ],
 "metadata": {
  "kernelspec": {
   "display_name": "Python 3",
   "language": "python",
   "name": "python3"
  },
  "language_info": {
   "codemirror_mode": {
    "name": "ipython",
    "version": 3
   },
   "file_extension": ".py",
   "mimetype": "text/x-python",
   "name": "python",
   "nbconvert_exporter": "python",
   "pygments_lexer": "ipython3",
   "version": "3.11.4"
  },
  "orig_nbformat": 4
 },
 "nbformat": 4,
 "nbformat_minor": 2
}
