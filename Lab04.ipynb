{
 "cells": [
  {
   "cell_type": "code",
   "execution_count": 8,
   "metadata": {},
   "outputs": [],
   "source": [
    "with open(\"orders.txt\",\"a+\") as file:\n",
    "    itemname=input(\"item name: \")\n",
    "    qty=input(\"Quantity: \")\n",
    "    price=input(\"Price: \")\n",
    "    str_to_save=itemname+\"\\n\"+qty+\"\\n\"+price+\"\\n\"\n",
    "    file.write(str_to_save)\n",
    " "
   ]
  },
  {
   "cell_type": "code",
   "execution_count": 9,
   "metadata": {},
   "outputs": [
    {
     "name": "stdout",
     "output_type": "stream",
     "text": [
      "['', '', '']\n",
      "['apples', '4', '342']\n",
      "['apples']\n",
      "['3']\n",
      "['300']\n",
      "['banana']\n",
      "['3']\n",
      "['4']\n"
     ]
    }
   ],
   "source": [
    "for line in open(\"orders.txt\").readlines():\n",
    "    orderDetails=line.strip().split(',')\n",
    "    print(orderDetails)"
   ]
  },
  {
   "cell_type": "code",
   "execution_count": null,
   "metadata": {},
   "outputs": [],
   "source": []
  }
 ],
 "metadata": {
  "kernelspec": {
   "display_name": "Python 3",
   "language": "python",
   "name": "python3"
  },
  "language_info": {
   "codemirror_mode": {
    "name": "ipython",
    "version": 3
   },
   "file_extension": ".py",
   "mimetype": "text/x-python",
   "name": "python",
   "nbconvert_exporter": "python",
   "pygments_lexer": "ipython3",
   "version": "3.11.4"
  },
  "orig_nbformat": 4
 },
 "nbformat": 4,
 "nbformat_minor": 2
}
